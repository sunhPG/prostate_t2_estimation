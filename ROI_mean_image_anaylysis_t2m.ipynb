{
 "cells": [
  {
   "cell_type": "code",
   "execution_count": 1,
   "id": "b792bdb1-d568-45c8-9b09-535fcbdd330d",
   "metadata": {},
   "outputs": [],
   "source": [
    "import pydicom as dicom\n",
    "import numpy as np\n",
    "import os\n",
    "import matplotlib.pyplot as plt\n",
    "import pandas as pd\n",
    "import scipy.io\n",
    "from mpl_toolkits.axes_grid1 import make_axes_locatable\n",
    "from matplotlib import patches\n",
    "from scipy.stats import iqr\n",
    "import nibabel as nb\n",
    "import matplotlib.pyplot as plt\n",
    "import matplotlib.dates as mdates\n",
    "import numpy as np\n",
    "import pandas as pd\n",
    "#import seaborn as sns"
   ]
  },
  {
   "cell_type": "code",
   "execution_count": 2,
   "id": "46e85e78-235f-48fb-a30d-a1f2223a4c3f",
   "metadata": {},
   "outputs": [],
   "source": [
    "data_folder = '/mnt/LiDXXLab_Files/Haoran/prostate_QM/training_dataset_3/'\n",
    "\n",
    "orignal_image_path = data_folder + 'elastic_resized/'\n",
    "seg_path = data_folder + 'ROI_LABEL/'\n",
    "\n",
    "\n",
    "#prediction_path_t2map = '/mnt/LiDXXLab_Files/Haoran/prostate_QM/trianing_model/sub_21_cv/t2m/Best_model/Unet_mean3stdnorm_exblader_20220926/sub_23__Unet_CVsplit1_epoch50_20220926/'\n",
    "#prediction_path_t2map = '/mnt/LiDXXLab_Files/Haoran/prostate_QM/trianing_model/sub_21_cv/t2m/Inter_model/Unet_mean3stdnorm_exblader_20220921/sub_21__Unet_CVsplit1_epoch50_20220921/'\n",
    "\n"
   ]
  },
  {
   "cell_type": "code",
   "execution_count": 3,
   "id": "414f0f86-d7ae-4081-8426-20728d177d45",
   "metadata": {},
   "outputs": [],
   "source": [
    "subject_list1 = ['sub1117','sub1216', 'sub0413','sub0106']#\n",
    "\n",
    "subject_list2 =  ['sub0427','sub0211']#\n",
    "\n",
    "subject_list3 = ['sub0419','sub1006','sub0624','sub0415']#,\n",
    "\n",
    "subject_list4 =  ['sub0930','sub0608','sub1201','sub0125']#"
   ]
  },
  {
   "cell_type": "markdown",
   "id": "473fbdbc-f948-4ea3-b06b-e87c7b21327d",
   "metadata": {},
   "source": [
    "subject_list2 =  []#\n",
    "\n",
    "subject_list3 = []#,\n",
    "\n",
    "subject_list4 =  []#"
   ]
  },
  {
   "cell_type": "markdown",
   "id": "b68e770c-2f52-40de-8837-500f5a7976ab",
   "metadata": {},
   "source": [
    "prediction_path1 = '/mnt/LiDXXLab_Files/Haoran/prostate_QM/trianing_model/sub_21_cv/t2m/Inter_model/Unet_mean3stdnorm_exblader_20220921/sub_21__Unet_CVsplit1_epoch50_20220921/'\n",
    "prediction_path2 = '/mnt/LiDXXLab_Files/Haoran/prostate_QM/trianing_model/sub_21_cv2/t2m/Inter_model/Unet_mean3stdnorm_exblader_20220921/sub_21__Unet_CVsplit2_epoch40_20220921/'\n",
    "prediction_path3 = '/mnt/LiDXXLab_Files/Haoran/prostate_QM/trianing_model/sub_21_cv3/t2m/Inter_model/Unet_mean3stdnorm_exblader_20220921/sub_21__Unet_CVsplit3_epoch40_20220921/'\n",
    "prediction_path4 = '/mnt/LiDXXLab_Files/Haoran/prostate_QM/trianing_model/sub_21_cv4/t2m/Inter_model/Unet_mean3stdnorm_exblader_20220921/sub_21__Unet_CVsplit4_epoch30_20220921/'\n"
   ]
  },
  {
   "cell_type": "markdown",
   "id": "d434864e-294b-46f0-b66f-f7bde088819f",
   "metadata": {},
   "source": [
    "prediction_path1 = '/mnt/LiDXXLab_Files/Haoran/prostate_QM/trianing_model/sub_21_cv/t2m/Inter_model/Unet_mean3stdnorm_exblader_20220928/sub_23__Unet_CVsplit1_epoch50_20220928/'\n",
    "prediction_path2 = '/mnt/LiDXXLab_Files/Haoran/prostate_QM/trianing_model/sub_21_cv2/t2m/Inter_model/Unet_mean3stdnorm_exblader_20220928/sub_23__Unet_CVsplit2_epoch40_20220928/'\n",
    "#prediction_path3 = '/mnt/LiDXXLab_Files/Haoran/prostate_QM/trianing_model/sub_21_cv3/t2m/Inter_model/Unet_mean3stdnorm_exblader_20220928/sub_23__Unet_CVsplit3_epoch50_20220928/'\n",
    "prediction_path3 = '/mnt/LiDXXLab_Files/Haoran/prostate_QM/trianing_model/sub_23__Unet_CVsplit3_epoch50_20220928/'\n",
    "prediction_path4 = '/mnt/LiDXXLab_Files/Haoran/prostate_QM/trianing_model/sub_21_cv4/t2m/Inter_model/Unet_mean3stdnorm_exblader_20220928/sub_23__Unet_CVsplit4_epoch50_20220928/'\n"
   ]
  },
  {
   "cell_type": "code",
   "execution_count": 4,
   "id": "0de36a46-766e-48b0-b677-561a2a3919a8",
   "metadata": {},
   "outputs": [],
   "source": [
    "prediction_path1 = '/mnt/LiDXXLab_Files/Haoran/prostate_QM/trianing_model/sub_25_cv/t2m_fitted/Inter_model/Unet_mean3stdnorm_exblader_20221212/sub_25_Unet_CVsplit1_epoch50_20221212/'\n",
    "\n",
    "prediction_path2 = '/mnt/LiDXXLab_Files/Haoran/prostate_QM/trianing_model/sub_25_cv/t2m_fitted/Inter_model/Unet_mean3stdnorm_exblader_20221212/sub_25_Unet_CVsplit2_epoch50_20221212/'\n",
    "\n",
    "prediction_path3 = '/mnt/LiDXXLab_Files/Haoran/prostate_QM/trianing_model/sub_25_cv/t2m_fitted/Inter_model/Unet_mean3stdnorm_exblader_20221212/sub_25_Unet_CVsplit3_epoch40_20221212/'\n",
    "\n",
    "prediction_path4 = '/mnt/LiDXXLab_Files/Haoran/prostate_QM/trianing_model/sub_25_cv/t2m_fitted/Inter_model/Unet_mean3stdnorm_exblader_20221212/sub_25_Unet_CVsplit4_epoch50_20221212/'\n",
    "\n"
   ]
  },
  {
   "cell_type": "code",
   "execution_count": 5,
   "id": "bc09b147-2041-4c43-a7f3-f46779a85cbf",
   "metadata": {},
   "outputs": [],
   "source": [
    "\n",
    "t2w_tumor = []\n",
    "t2w_non_tumor = []\n",
    "\n",
    "\n",
    "t2m_tumor = []\n",
    "t2m_non_tumor = []\n",
    "\n",
    "t2m_prediction_tumor = []\n",
    "t2m_prediction_non_tumor = []\n",
    "\n"
   ]
  },
  {
   "cell_type": "code",
   "execution_count": 6,
   "id": "0d0e6a9d-878e-47dc-9e11-bbadc0baa3fc",
   "metadata": {},
   "outputs": [],
   "source": [
    "for subject_id in subject_list1:\n",
    "    \n",
    "    \n",
    "    t2w_temp = nb.load(orignal_image_path+subject_id+'/t2_elastic_resized.nii').get_fdata().astype(np.float32)\n",
    "    \n",
    "    t2m_temp = nb.load(orignal_image_path+subject_id+'/t2m_fitted_elastic_resized.nii').get_fdata().astype(np.float32)\n",
    "    \n",
    "    t2m_predcition_temp = nb.load(prediction_path1+subject_id+'.nii').get_fdata().astype(np.float32)\n",
    "    \n",
    "    value_mask  = np.ones(np.shape(t2m_temp))\n",
    "    value_mask[t2m_temp > 400] = 0\n",
    "    \n",
    "    seg_t2weighted_temp = nb.load(seg_path+'t2weighted_as_main/'+subject_id+'_t2w_segmentation.nii').get_fdata().astype(np.float32)\n",
    "    seg_t2map_temp = nb.load(seg_path+'t2map_as_main/'+subject_id+'_t2m_segmentation.nii').get_fdata().astype(np.float32)\n",
    "   \n",
    "    seg_t2weighted_temp = seg_t2weighted_temp*value_mask\n",
    "    seg_t2map_temp = seg_t2map_temp*value_mask\n",
    "\n",
    "    \n",
    "    t2w_tumor.append(np.mean(t2w_temp[seg_t2weighted_temp==1]))\n",
    "    t2w_non_tumor.append(np.mean(t2w_temp[seg_t2weighted_temp==2]))\n",
    "\n",
    "    t2m_tumor.append(np.mean(t2m_temp[seg_t2map_temp==1]))\n",
    "    t2m_non_tumor.append(np.mean(t2m_temp[seg_t2map_temp==2]))\n",
    "    \n",
    "    t2m_prediction_tumor.append(np.mean(t2m_predcition_temp[seg_t2weighted_temp==1 ])*400)\n",
    "    t2m_prediction_non_tumor.append(np.mean(t2m_predcition_temp[seg_t2weighted_temp==2 ])*400)\n",
    "    \n",
    "    "
   ]
  },
  {
   "cell_type": "code",
   "execution_count": 7,
   "id": "7f0d50ee-5ca2-4e46-a2d4-4e03be948812",
   "metadata": {},
   "outputs": [],
   "source": [
    "for subject_id in subject_list2:\n",
    "    \n",
    "    \n",
    "    t2w_temp = nb.load(orignal_image_path+subject_id+'/t2_elastic_resized.nii').get_fdata().astype(np.float32)\n",
    "    \n",
    "    t2m_temp = nb.load(orignal_image_path+subject_id+'/t2m_fitted_elastic_resized.nii').get_fdata().astype(np.float32)\n",
    "    \n",
    "    t2m_predcition_temp = nb.load(prediction_path2+subject_id+'.nii').get_fdata().astype(np.float32)\n",
    "    \n",
    "    \n",
    "    value_mask  = np.ones(np.shape(t2m_temp))\n",
    "    value_mask[t2m_temp > 400] = 0\n",
    "    \n",
    "    seg_t2weighted_temp = nb.load(seg_path+'t2weighted_as_main/'+subject_id+'_t2w_segmentation.nii').get_fdata().astype(np.float32)\n",
    "    seg_t2map_temp = nb.load(seg_path+'t2map_as_main/'+subject_id+'_t2m_segmentation.nii').get_fdata().astype(np.float32)\n",
    "   \n",
    "    seg_t2weighted_temp = seg_t2weighted_temp*value_mask\n",
    "    seg_t2map_temp = seg_t2map_temp*value_mask\n",
    "   \n",
    "    t2w_tumor.append(np.mean(t2w_temp[seg_t2weighted_temp==1]))\n",
    "    t2w_non_tumor.append(np.mean(t2w_temp[seg_t2weighted_temp==2]))\n",
    "\n",
    "    t2m_tumor.append(np.mean(t2m_temp[seg_t2map_temp==1]))\n",
    "    t2m_non_tumor.append(np.mean(t2m_temp[seg_t2map_temp==2]))\n",
    "    \n",
    "    t2m_prediction_tumor.append(np.mean(t2m_predcition_temp[seg_t2weighted_temp==1])*400)\n",
    "    t2m_prediction_non_tumor.append(np.mean(t2m_predcition_temp[seg_t2weighted_temp==2])*400)"
   ]
  },
  {
   "cell_type": "code",
   "execution_count": 8,
   "id": "fe285403-bad8-4c8f-9a30-afeb7011d7b8",
   "metadata": {},
   "outputs": [],
   "source": [
    "for subject_id in subject_list3:\n",
    "    \n",
    "    \n",
    "    t2w_temp = nb.load(orignal_image_path+subject_id+'/t2_elastic_resized.nii').get_fdata().astype(np.float32)\n",
    "    \n",
    "    t2m_temp = nb.load(orignal_image_path+subject_id+'/t2m_fitted_elastic_resized.nii').get_fdata().astype(np.float32)\n",
    "    \n",
    "    t2m_predcition_temp = nb.load(prediction_path3+subject_id+'.nii').get_fdata().astype(np.float32)\n",
    "    \n",
    "    \n",
    "    value_mask  = np.ones(np.shape(t2m_temp))\n",
    "    value_mask[t2m_temp > 400] = 0\n",
    "    \n",
    "    seg_t2weighted_temp = nb.load(seg_path+'t2weighted_as_main/'+subject_id+'_t2w_segmentation.nii').get_fdata().astype(np.float32)\n",
    "    seg_t2map_temp = nb.load(seg_path+'t2map_as_main/'+subject_id+'_t2m_segmentation.nii').get_fdata().astype(np.float32)\n",
    "   \n",
    "    seg_t2weighted_temp = seg_t2weighted_temp*value_mask\n",
    "    seg_t2map_temp = seg_t2map_temp*value_mask\n",
    "   \n",
    "    t2w_tumor.append(np.mean(t2w_temp[seg_t2weighted_temp==1]))\n",
    "    t2w_non_tumor.append(np.mean(t2w_temp[seg_t2weighted_temp==2]))\n",
    "\n",
    "    t2m_tumor.append(np.mean(t2m_temp[seg_t2map_temp==1]))\n",
    "    t2m_non_tumor.append(np.mean(t2m_temp[seg_t2map_temp==2]))\n",
    "    \n",
    "    t2m_prediction_tumor.append(np.mean(t2m_predcition_temp[seg_t2weighted_temp==1])*400)\n",
    "    t2m_prediction_non_tumor.append(np.mean(t2m_predcition_temp[seg_t2weighted_temp==2])*400)"
   ]
  },
  {
   "cell_type": "code",
   "execution_count": 9,
   "id": "e1d95ed7-6ce2-4b7f-a74a-920b6ed274ca",
   "metadata": {},
   "outputs": [],
   "source": [
    "for subject_id in subject_list4:\n",
    "    \n",
    "    \n",
    "    t2w_temp = nb.load(orignal_image_path+subject_id+'/t2_elastic_resized.nii').get_fdata().astype(np.float32)\n",
    "    \n",
    "    t2m_temp = nb.load(orignal_image_path+subject_id+'/t2m_fitted_elastic_resized.nii').get_fdata().astype(np.float32)\n",
    "    \n",
    "    t2m_predcition_temp = nb.load(prediction_path4+subject_id+'.nii').get_fdata().astype(np.float32)\n",
    "    \n",
    "    \n",
    "    value_mask  = np.ones(np.shape(t2m_temp))\n",
    "    value_mask[t2m_temp > 400] = 0\n",
    "    \n",
    "    seg_t2weighted_temp = nb.load(seg_path+'t2weighted_as_main/'+subject_id+'_t2w_segmentation.nii').get_fdata().astype(np.float32)\n",
    "    seg_t2map_temp = nb.load(seg_path+'t2map_as_main/'+subject_id+'_t2m_segmentation.nii').get_fdata().astype(np.float32)\n",
    "   \n",
    "    seg_t2weighted_temp = seg_t2weighted_temp*value_mask\n",
    "    seg_t2map_temp = seg_t2map_temp*value_mask\n",
    "   \n",
    "    t2w_tumor.append(np.mean(t2w_temp[seg_t2weighted_temp==1]))\n",
    "    t2w_non_tumor.append(np.mean(t2w_temp[seg_t2weighted_temp==2]))\n",
    "\n",
    "    t2m_tumor.append(np.mean(t2m_temp[seg_t2map_temp==1]))\n",
    "    t2m_non_tumor.append(np.mean(t2m_temp[seg_t2map_temp==2]))\n",
    "    \n",
    "    t2m_prediction_tumor.append(np.mean(t2m_predcition_temp[seg_t2weighted_temp==1])*400)\n",
    "    t2m_prediction_non_tumor.append(np.mean(t2m_predcition_temp[seg_t2weighted_temp==2])*400)"
   ]
  },
  {
   "cell_type": "code",
   "execution_count": 10,
   "id": "de60bae7-abad-4a12-bb93-64a46002ba57",
   "metadata": {},
   "outputs": [
    {
     "name": "stdout",
     "output_type": "stream",
     "text": [
      "(14,)\n"
     ]
    }
   ],
   "source": [
    "print(np.shape(t2m_tumor))"
   ]
  },
  {
   "cell_type": "code",
   "execution_count": 11,
   "id": "78bbc24a-715e-4d63-aedc-d63b9045d700",
   "metadata": {},
   "outputs": [
    {
     "name": "stdout",
     "output_type": "stream",
     "text": [
      "[94.82329487800598, 77.76461839675903, 80.72350025177002, 96.13723158836365, 70.28641104698181, 64.44594860076904, 82.79342651367188, 49.558570981025696, 87.18246221542358, 71.91961407661438, 104.18397188186646, 85.37830114364624, 117.71997213363647, 89.12399411201477]\n",
      "[118.46678256988525, 106.54609203338623, 98.07115197181702, 120.51777839660645, 113.52211236953735, 110.34364700317383, 106.88368082046509, 69.48363184928894, 111.98357343673706, 131.52060508728027, 118.111252784729, 116.84110164642334, 121.92622423171997, 122.16269969940186]\n"
     ]
    }
   ],
   "source": [
    "print(t2m_prediction_tumor)\n",
    "print(t2m_prediction_non_tumor)"
   ]
  },
  {
   "cell_type": "code",
   "execution_count": 12,
   "id": "0e4b12b9-392a-4f66-80d3-f0009c0b20e0",
   "metadata": {},
   "outputs": [
    {
     "name": "stdout",
     "output_type": "stream",
     "text": [
      "[86.12304, 64.79368, 65.91553, 87.42013, 110.276436, 68.701904, 84.63941, 65.15992, 84.502975, 79.50725, 77.474525, 82.703125, 107.053604, 85.316055]\n",
      "[115.34251, 112.891106, 104.86006, 137.72404, 159.38026, 118.57281, 113.45898, 103.436775, 137.88339, 184.63959, 98.90937, 124.66081, 158.03464, 123.739075]\n"
     ]
    }
   ],
   "source": [
    "print(t2m_tumor)\n",
    "print(t2m_non_tumor)"
   ]
  },
  {
   "cell_type": "code",
   "execution_count": 13,
   "id": "00f0aa72-fcfd-41c1-b2cc-016b363d340b",
   "metadata": {},
   "outputs": [
    {
     "data": {
      "text/plain": [
       "<matplotlib.legend.Legend at 0x7f1fd6258150>"
      ]
     },
     "execution_count": 13,
     "metadata": {},
     "output_type": "execute_result"
    },
    {
     "data": {
      "image/png": "[encoded data removed]",
      "text/plain": [
       "<Figure size 432x288 with 1 Axes>"
      ]
     },
     "metadata": {
      "needs_background": "light"
     },
     "output_type": "display_data"
    }
   ],
   "source": [
    "x = [0,1,2,3,4,5,6,7,8,9,10,11,12,13]\n",
    "plt.plot(t2m_tumor,label = 'gt tumor')\n",
    "plt.plot(t2m_prediction_tumor,label = 'predicted tumor')\n",
    "\n",
    "plt.ylim([0,400])\n",
    "plt.xticks(x)\n",
    "plt.legend()\n",
    "#plt.plot(t2m_tumor)\n",
    "#plt.plot(t2m_non_tumor)"
   ]
  },
  {
   "cell_type": "code",
   "execution_count": 14,
   "id": "47c87a6b-08b1-465d-bbcd-3243c2801b66",
   "metadata": {},
   "outputs": [
    {
     "data": {
      "text/plain": [
       "<matplotlib.legend.Legend at 0x7f1fd6163fd0>"
      ]
     },
     "execution_count": 14,
     "metadata": {},
     "output_type": "execute_result"
    },
    {
     "data": {
      "image/png": "[encoded data removed]",
      "text/plain": [
       "<Figure size 432x288 with 1 Axes>"
      ]
     },
     "metadata": {
      "needs_background": "light"
     },
     "output_type": "display_data"
    }
   ],
   "source": [
    "plt.plot(t2m_non_tumor,label = 'gt non-tumor')\n",
    "plt.plot(t2m_prediction_non_tumor,label = 'predicted non-tumor')\n",
    "plt.ylim([0,400])\n",
    "plt.xticks(x)\n",
    "plt.legend()"
   ]
  },
  {
   "cell_type": "code",
   "execution_count": 15,
   "id": "b246f8b4-ec24-41bd-820f-25bf4338242c",
   "metadata": {},
   "outputs": [
    {
     "data": {
      "text/plain": [
       "([<matplotlib.axis.XTick at 0x7f1fd60eed90>,\n",
       "  <matplotlib.axis.XTick at 0x7f20a680fa90>,\n",
       "  <matplotlib.axis.XTick at 0x7f1fd8322b50>,\n",
       "  <matplotlib.axis.XTick at 0x7f1fd60471d0>,\n",
       "  <matplotlib.axis.XTick at 0x7f1fd6047910>,\n",
       "  <matplotlib.axis.XTick at 0x7f1fd60490d0>,\n",
       "  <matplotlib.axis.XTick at 0x7f1fd6049650>,\n",
       "  <matplotlib.axis.XTick at 0x7f1fd603be10>,\n",
       "  <matplotlib.axis.XTick at 0x7f1fd6049910>,\n",
       "  <matplotlib.axis.XTick at 0x7f1fd6049210>,\n",
       "  <matplotlib.axis.XTick at 0x7f1fd605b910>,\n",
       "  <matplotlib.axis.XTick at 0x7f1fd605b850>,\n",
       "  <matplotlib.axis.XTick at 0x7f1fd6063610>,\n",
       "  <matplotlib.axis.XTick at 0x7f1fd6063e50>],\n",
       " [Text(0, 0, ''),\n",
       "  Text(0, 0, ''),\n",
       "  Text(0, 0, ''),\n",
       "  Text(0, 0, ''),\n",
       "  Text(0, 0, ''),\n",
       "  Text(0, 0, ''),\n",
       "  Text(0, 0, ''),\n",
       "  Text(0, 0, ''),\n",
       "  Text(0, 0, ''),\n",
       "  Text(0, 0, ''),\n",
       "  Text(0, 0, ''),\n",
       "  Text(0, 0, ''),\n",
       "  Text(0, 0, ''),\n",
       "  Text(0, 0, '')])"
      ]
     },
     "execution_count": 15,
     "metadata": {},
     "output_type": "execute_result"
    },
    {
     "data": {
      "image/png": "[encoded data removed]",
      "text/plain": [
       "<Figure size 432x288 with 1 Axes>"
      ]
     },
     "metadata": {
      "needs_background": "light"
     },
     "output_type": "display_data"
    }
   ],
   "source": [
    "delta_orignal = np.array(t2m_non_tumor)-np.array(t2m_tumor)\n",
    "delta_pre = np.array(t2m_prediction_non_tumor)-np.array(t2m_prediction_tumor)\n",
    "plt.plot(delta_orignal,label= 'diff of GT')\n",
    "plt.plot(delta_pre,label= 'diff of prediction')\n",
    "plt.axhline(0,linestyle = '--')\n",
    "plt.ylim([-10,200])\n",
    "plt.legend(loc = 'upper right')\n",
    "plt.xticks(x)"
   ]
  },
  {
   "cell_type": "code",
   "execution_count": 16,
   "id": "e9793674-7ce4-48b6-a364-d81487e355e3",
   "metadata": {},
   "outputs": [],
   "source": [
    "sum_nontumor = 0.5*(np.array(t2m_non_tumor)+np.array(t2m_prediction_non_tumor))\n",
    "sum_tumor = 0.5*(np.array(t2m_tumor)+np.array(t2m_prediction_tumor))\n",
    "\n",
    "diff_nontumor = (np.array(t2m_non_tumor)-np.array(t2m_prediction_non_tumor))\n",
    "diff_tumor = (np.array(t2m_tumor)-np.array(t2m_prediction_tumor))\n",
    "\n",
    "md_tumor = np.mean(diff_tumor)\n",
    "md_nontumor = np.mean(diff_nontumor)\n",
    "\n",
    "\n",
    "sd_tumor = np.std(diff_tumor)\n",
    "sd_nontumor = np.std(diff_nontumor)"
   ]
  },
  {
   "cell_type": "code",
   "execution_count": 17,
   "id": "d31365e1-98c0-4e1d-a55e-22d969cbe82b",
   "metadata": {},
   "outputs": [
    {
     "data": {
      "image/png": "[encoded data removed]",
      "text/plain": [
       "<Figure size 432x288 with 1 Axes>"
      ]
     },
     "metadata": {
      "needs_background": "light"
     },
     "output_type": "display_data"
    }
   ],
   "source": [
    "plt.scatter(sum_tumor,diff_tumor,label = 'tumor')\n",
    "plt.axhline(md_tumor,linestyle = '--')\n",
    "plt.axhline(md_tumor+1.96*sd_tumor,linestyle = '--')\n",
    "plt.axhline(md_tumor-1.96*sd_tumor,linestyle = '--')\n",
    "plt.ylim([-80,80])\n",
    "plt.legend(loc = 'upper right')\n",
    "plt.show()"
   ]
  },
  {
   "cell_type": "code",
   "execution_count": 18,
   "id": "c854ff67-76c5-4379-9356-981ff0dd3231",
   "metadata": {},
   "outputs": [
    {
     "data": {
      "image/png": "[encoded data removed]",
      "text/plain": [
       "<Figure size 432x288 with 1 Axes>"
      ]
     },
     "metadata": {
      "needs_background": "light"
     },
     "output_type": "display_data"
    }
   ],
   "source": [
    "import matplotlib.pyplot as plt\n",
    "import numpy as np\n",
    "import pdb\n",
    "from numpy.random import random\n",
    "\n",
    "def bland_altman_plot(data1, data2, *args, **kwargs):\n",
    "    data1     = np.asarray(data1)\n",
    "    data2     = np.asarray(data2)\n",
    "    mean      = np.mean([data1, data2], axis=0)\n",
    "    diff      = (data2 - data1)                  # Difference between data1 and data2\n",
    "    md        = np.mean(diff)                   # Mean of the difference\n",
    "    sd        = np.std(diff, axis=0)            # Standard deviation of the difference\n",
    "    CI_low    = md - 1.96*sd\n",
    "    CI_high   = md + 1.96*sd\n",
    "\n",
    "    plt.scatter(mean, diff, *args, **kwargs,color = 'red',label = 'tumor')\n",
    "    plt.axhline(md,           color='black', linestyle='-')\n",
    "    plt.axhline(md + 1.96*sd, color='gray', linestyle='--')\n",
    "    plt.axhline(md - 1.96*sd, color='gray', linestyle='--')\n",
    "    return md, sd, mean, CI_low, CI_high\n",
    "\n",
    "\n",
    "md, sd, mean, CI_low, CI_high = bland_altman_plot(t2m_tumor,t2m_prediction_tumor)\n",
    "#plt.title(r\"$\\mathbf{Bland-Altman}$\" + \" \" + r\"$\\mathbf{Plot}$\")\n",
    "plt.xlabel(\"mean (Reference T2, DL T2) [ms]\")\n",
    "plt.legend()\n",
    "plt.ylabel(\"Difference [%]\")\n",
    "plt.ylim([-80,80])\n",
    "plt.yticks([-80,-60,-40,-20,0,20,40,60,80],[-20,-15,-10,-5,0,5,10,15,20])\n",
    "#plt.yticks([])\n",
    "xOutPlot = np.min(mean) + (np.max(mean)-np.min(mean))*1.14\n",
    "\n",
    "\n",
    "plt.subplots_adjust(right=0.85)\n",
    "\n",
    "plt.savefig('tumorBP.png')\n",
    "plt.show()"
   ]
  },
  {
   "cell_type": "code",
   "execution_count": 19,
   "id": "c0db853e-87a2-4e17-a0c5-256cbbe9e46d",
   "metadata": {},
   "outputs": [
    {
     "data": {
      "image/png": "[encoded data removed]",
      "text/plain": [
       "<Figure size 432x288 with 1 Axes>"
      ]
     },
     "metadata": {
      "needs_background": "light"
     },
     "output_type": "display_data"
    }
   ],
   "source": [
    "import matplotlib.pyplot as plt\n",
    "import numpy as np\n",
    "import pdb\n",
    "from numpy.random import random\n",
    "\n",
    "def bland_altman_plot(data1, data2, *args, **kwargs):\n",
    "    data1     = np.asarray(data1)\n",
    "    data2     = np.asarray(data2)\n",
    "    mean      = np.mean([data1, data2], axis=0)\n",
    "    diff      = data2 - data1                   # Difference between data1 and data2\n",
    "    md        = np.mean(diff)                   # Mean of the difference\n",
    "    sd        = np.std(diff, axis=0)            # Standard deviation of the difference\n",
    "    CI_low    = md - 1.96*sd\n",
    "    CI_high   = md + 1.96*sd\n",
    "\n",
    "    plt.scatter(mean, diff, *args, **kwargs,color = 'blue',label = 'non-tumor')\n",
    "    plt.axhline(md,           color='black', linestyle='-')\n",
    "    plt.axhline(md + 1.96*sd, color='gray', linestyle='--')\n",
    "    plt.axhline(md - 1.96*sd, color='gray', linestyle='--')\n",
    "    return md, sd, mean, CI_low, CI_high\n",
    "\n",
    "\n",
    "md, sd, mean, CI_low, CI_high = bland_altman_plot(t2m_non_tumor,t2m_prediction_non_tumor)\n",
    "#plt.title(r\"$\\mathbf{Bland-Altman}$\" + \" \" + r\"$\\mathbf{Plot}$\")\n",
    "plt.xlabel(\"mean (Reference T2, DL T2) [ms]\")\n",
    "plt.legend()\n",
    "plt.ylabel(\"Difference [%]\")\n",
    "plt.ylim([-80,80])\n",
    "plt.yticks([-80,-60,-40,-20,0,20,40,60,80],[-20,-15,-10,-5,0,5,10,15,20])\n",
    "\n",
    "xOutPlot = np.min(mean) + (np.max(mean)-np.min(mean))*1.14\n",
    "\n",
    "\n",
    "plt.subplots_adjust(right=0.85)\n",
    "\n",
    "plt.savefig('NONtumorBP.png')\n",
    "plt.show()"
   ]
  },
  {
   "cell_type": "code",
   "execution_count": 20,
   "id": "765f73df-7f95-4845-8ed0-15686a3097dc",
   "metadata": {},
   "outputs": [
    {
     "data": {
      "image/png": "[encoded data removed]",
      "text/plain": [
       "<Figure size 432x288 with 1 Axes>"
      ]
     },
     "metadata": {
      "needs_background": "light"
     },
     "output_type": "display_data"
    }
   ],
   "source": [
    "plt.scatter(sum_nontumor,diff_nontumor,color = 'tab:orange',label = 'non-tumor')\n",
    "plt.axhline(md_nontumor,color = 'tab:orange',linestyle = '--')\n",
    "plt.axhline(md_nontumor+1.96*sd_nontumor,color = 'tab:orange',linestyle = '--')\n",
    "plt.axhline(md_nontumor-1.96*sd_nontumor,color = 'tab:orange',linestyle = '--')\n",
    "plt.legend(loc = 'upper right')\n",
    "plt.ylim([-80,80])\n",
    "plt.show()"
   ]
  },
  {
   "cell_type": "code",
   "execution_count": 21,
   "id": "0b2d31f7-1e23-4806-ba6f-5af0c354dfb2",
   "metadata": {},
   "outputs": [
    {
     "name": "stdout",
     "output_type": "stream",
     "text": [
      "-1.6038385714803423\n"
     ]
    }
   ],
   "source": [
    "print(np.mean(diff_tumor))"
   ]
  },
  {
   "cell_type": "code",
   "execution_count": 22,
   "id": "baed81dc-7695-4dbf-9831-cfbaa706c4ce",
   "metadata": {},
   "outputs": [
    {
     "name": "stdout",
     "output_type": "stream",
     "text": [
      "-------T2 weighted--------/n\n",
      "non tumor region gt: 266.99814 std: 52.41953 ; tumor region gt: 151.87773 std: 45.434113\n"
     ]
    }
   ],
   "source": [
    "\n",
    "print('-------T2 weighted--------/n')\n",
    "print(\"non tumor region gt:\", np.mean(t2w_non_tumor),\"std:\",np.std(t2w_non_tumor) ,\"; tumor region gt:\",np.mean(t2w_tumor) ,\"std:\",np.std(t2w_tumor) )\n"
   ]
  },
  {
   "cell_type": "code",
   "execution_count": 23,
   "id": "c1a601b5-e6ac-492a-b145-63b13cb68faf",
   "metadata": {},
   "outputs": [
    {
     "name": "stdout",
     "output_type": "stream",
     "text": [
      "-------T2 maps--------/n\n",
      "non tumor region gt: 128.10953 std: 23.889772 ; tumor region gt: 82.1134 std: 13.46967\n"
     ]
    }
   ],
   "source": [
    "\n",
    "print('-------T2 maps--------/n')\n",
    "print(\"non tumor region gt:\", np.mean(t2m_non_tumor),\"std:\",np.std(t2m_non_tumor) ,\"; tumor region gt:\",np.mean(t2m_tumor) ,\"std:\",np.std(t2m_tumor) )\n"
   ]
  },
  {
   "cell_type": "code",
   "execution_count": 24,
   "id": "86ed06b6-a5a1-4f6b-952d-763350a5da89",
   "metadata": {},
   "outputs": [
    {
     "name": "stdout",
     "output_type": "stream",
     "text": [
      "-------T2 map prediction--------/n\n",
      "non tumor region prediction: 111.88430956431797 std: 14.193734383439685 ; tumor region prediction: 83.71723698718208 std: 16.47442071333945\n"
     ]
    }
   ],
   "source": [
    "\n",
    "\n",
    "print('-------T2 map prediction--------/n')\n",
    "print(\"non tumor region prediction:\", np.mean(t2m_prediction_non_tumor),\"std:\",np.std(t2m_prediction_non_tumor) ,\"; tumor region prediction:\",np.mean(t2m_prediction_tumor) ,\"std:\",np.std(t2m_prediction_tumor) )\n"
   ]
  },
  {
   "cell_type": "markdown",
   "id": "f76efd79-15f4-4bd1-a861-9662a07e2c5a",
   "metadata": {},
   "source": [
    "## T-test"
   ]
  },
  {
   "cell_type": "code",
   "execution_count": 25,
   "id": "3fa3f17c-de14-48c7-b4b7-0dc702cdfd75",
   "metadata": {},
   "outputs": [],
   "source": [
    "from scipy import stats\n",
    "\n"
   ]
  },
  {
   "cell_type": "code",
   "execution_count": 26,
   "id": "5431549f-2cbf-492f-ac56-4d672df2cc9a",
   "metadata": {},
   "outputs": [
    {
     "data": {
      "text/plain": [
       "Ttest_indResult(statistic=2.1052418347764474, pvalue=0.04508409771704747)"
      ]
     },
     "execution_count": 26,
     "metadata": {},
     "output_type": "execute_result"
    }
   ],
   "source": [
    "stats.ttest_ind(t2m_non_tumor,t2m_prediction_non_tumor)"
   ]
  },
  {
   "cell_type": "code",
   "execution_count": 27,
   "id": "7332e26f-7383-4fcc-9d6f-5517d19e1f1c",
   "metadata": {},
   "outputs": [
    {
     "data": {
      "text/plain": [
       "Ttest_indResult(statistic=-0.2717435885652643, pvalue=0.7879653580892516)"
      ]
     },
     "execution_count": 27,
     "metadata": {},
     "output_type": "execute_result"
    }
   ],
   "source": [
    "stats.ttest_ind(t2m_tumor,t2m_prediction_tumor)"
   ]
  },
  {
   "cell_type": "markdown",
   "id": "a0383a32-05f4-426b-b2b8-2a38680b9810",
   "metadata": {},
   "source": [
    "## tumor and non-tumor"
   ]
  },
  {
   "cell_type": "code",
   "execution_count": 28,
   "id": "f505ec99-a277-4786-921f-048159557562",
   "metadata": {},
   "outputs": [
    {
     "data": {
      "text/plain": [
       "Ttest_indResult(statistic=-6.046996709291015, pvalue=2.1812349900403963e-06)"
      ]
     },
     "execution_count": 28,
     "metadata": {},
     "output_type": "execute_result"
    }
   ],
   "source": [
    "stats.ttest_ind(t2m_tumor,t2m_non_tumor)"
   ]
  },
  {
   "cell_type": "code",
   "execution_count": 29,
   "id": "e59cac2d-2273-4b01-970e-e5616ca8b967",
   "metadata": {},
   "outputs": [
    {
     "data": {
      "text/plain": [
       "Ttest_indResult(statistic=-4.670282327938976, pvalue=8.025766347107672e-05)"
      ]
     },
     "execution_count": 29,
     "metadata": {},
     "output_type": "execute_result"
    }
   ],
   "source": [
    "stats.ttest_ind(t2m_prediction_tumor,t2m_prediction_non_tumor)"
   ]
  },
  {
   "cell_type": "code",
   "execution_count": null,
   "id": "524c98bc-3571-4d82-9a63-ca6bcd93e66c",
   "metadata": {},
   "outputs": [],
   "source": []
  },
  {
   "cell_type": "code",
   "execution_count": null,
   "id": "3536b3bb-9d75-4a60-b317-6a94a13bc06e",
   "metadata": {},
   "outputs": [],
   "source": []
  },
  {
   "cell_type": "code",
   "execution_count": null,
   "id": "e3558b05-008b-444a-9646-f84b8d77141b",
   "metadata": {},
   "outputs": [],
   "source": []
  }
 ],
 "metadata": {
  "kernelspec": {
   "display_name": "Python 3",
   "language": "python",
   "name": "python3"
  },
  "language_info": {
   "codemirror_mode": {
    "name": "ipython",
    "version": 3
   },
   "file_extension": ".py",
   "mimetype": "text/x-python",
   "name": "python",
   "nbconvert_exporter": "python",
   "pygments_lexer": "ipython3",
   "version": "3.7.7"
  }
 },
 "nbformat": 4,
 "nbformat_minor": 5
}
